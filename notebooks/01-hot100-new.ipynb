{
 "cells": [
  {
   "cell_type": "markdown",
   "id": "0a44f754-1f9a-40b0-b926-3eb0c13269d1",
   "metadata": {},
   "source": [
    "# New Billboard try\n",
    "\n",
    "Something happened with billboard.py where there are no longer previous dates, so we need to find another way."
   ]
  },
  {
   "cell_type": "code",
   "execution_count": 1,
   "id": "66a30b79-a45c-48f5-85d2-d721c8c02c76",
   "metadata": {},
   "outputs": [],
   "source": [
    "import billboard\n",
    "from datetime import datetime, timedelta, date\n",
    "import os\n",
    "import pandas as pd\n",
    "import time"
   ]
  },
  {
   "cell_type": "code",
   "execution_count": 2,
   "id": "f5820a62-ba04-4d46-b0c8-92cec6239aae",
   "metadata": {},
   "outputs": [],
   "source": [
    "chart = billboard.ChartData('hot-100', date=\"2021-12-25\")"
   ]
  },
  {
   "cell_type": "code",
   "execution_count": 3,
   "id": "79414660-c7a0-414b-84ee-10c4e249d306",
   "metadata": {},
   "outputs": [
    {
     "name": "stdout",
     "output_type": "stream",
     "text": [
      "hot-100 chart from 2021-12-25\n",
      "-----------------------------\n",
      "1. 'All I Want For Christmas Is You' by Mariah Carey\n",
      "2. 'Rockin' Around The Christmas Tree' by Brenda Lee\n",
      "3. 'Easy On Me' by Adele\n",
      "4. 'Jingle Bell Rock' by Bobby Helms\n",
      "5. 'A Holly Jolly Christmas' by Burl Ives\n",
      "6. 'Stay' by The Kid LAROI & Justin Bieber\n",
      "7. 'It's The Most Wonderful Time Of The Year' by Andy Williams\n",
      "8. 'Heat Waves' by Glass Animals\n",
      "9. 'Last Christmas' by Wham!\n",
      "10. 'Industry Baby' by Lil Nas X & Jack Harlow\n",
      "11. 'Feliz Navidad' by Jose Feliciano\n",
      "12. 'Shivers' by Ed Sheeran\n",
      "13. 'Sleigh Ride' by The Ronettes\n",
      "14. 'Need To Know' by Doja Cat\n",
      "15. 'The Christmas Song (Merry Christmas To You)' by Nat King Cole\n",
      "16. 'abcdefu' by GAYLE\n",
      "17. 'Let It Snow, Let It Snow, Let It Snow' by Dean Martin\n",
      "18. 'Underneath The Tree' by Kelly Clarkson\n",
      "19. 'It's Beginning To Look A Lot Like Christmas' by Perry Como And The Fontane Sisters With Mitchell Ayres And His Orchestra\n",
      "20. 'Super Gremlin' by Kodak Black\n",
      "21. 'Rudolph The Red-Nosed Reindeer' by Gene Autry\n",
      "22. 'Happy Holiday / The Holiday Season' by Andy Williams\n",
      "23. 'Cold Heart (PNAU Remix)' by Elton John & Dua Lipa\n",
      "24. 'Santa Tell Me' by Ariana Grande\n",
      "25. 'Christmas (Baby Please Come Home)' by Darlene Love\n",
      "26. 'Bad Habits' by Ed Sheeran\n",
      "27. 'White Christmas' by Bing Crosby\n",
      "28. '(There's No Place Like) Home For The Holidays' by Perry Como\n",
      "29. 'Girl Of My Dreams' by Juice WRLD & SUGA\n",
      "30. 'Smokin Out The Window' by Silk Sonic (Bruno Mars & Anderson .Paak)\n",
      "31. 'I Hate U' by SZA\n",
      "32. 'Run Rudolph Run' by Chuck Berry\n",
      "33. 'Good 4 U' by Olivia Rodrigo\n",
      "34. 'Burn' by Juice WRLD\n",
      "35. 'Fancy Like' by Walker Hayes\n",
      "36. 'It's Beginning To Look A Lot Like Christmas' by Michael Buble\n",
      "37. 'Ghost' by Justin Bieber\n",
      "38. 'One Right Now' by Post Malone & The Weeknd\n",
      "39. 'Essence' by Wizkid Featuring Justin Bieber & Tems\n",
      "40. 'You Right' by Doja Cat & The Weeknd\n",
      "41. 'Wonderful Christmastime' by Paul McCartney\n",
      "42. 'Kiss Me More' by Doja Cat Featuring SZA\n",
      "43. 'Happier Than Ever' by Billie Eilish\n",
      "44. 'You're A Mean One, Mr. Grinch' by Thurl Ravenscroft\n",
      "45. 'Thats What I Want' by Lil Nas X\n",
      "46. 'Way 2 Sexy' by Drake Featuring Future & Young Thug\n",
      "47. 'Love Nwantiti (Ah Ah Ah)' by CKay\n",
      "48. 'Knife Talk' by Drake Featuring 21 Savage & Project Pat\n",
      "49. 'Mistletoe' by Justin Bieber\n",
      "50. 'Santa Baby' by Eartha Kitt With Henri Rene And His Orchestra\n",
      "51. 'Oh My God' by Adele\n",
      "52. 'Thinking 'Bout You' by Dustin Lynch Featuring Lauren Alaina Or MacKenzie Porter\n",
      "53. 'Better Days' by NEIKED X Mae Muller X Polo G\n",
      "54. 'Already Dead' by Juice WRLD\n",
      "55. 'Wandered To LA.' by Juice WRLD & Justin Bieber\n",
      "56. 'Feline' by Juice WRLD, Polo G & Trippie Redd\n",
      "57. 'Buy Dirt' by Jordan Davis Featuring Luke Bryan\n",
      "58. 'Meet Me At Our Spot' by THE ANXIETY: WILLOW & Tyler Cole\n",
      "59. 'All Too Well (Taylor's Version)' by Taylor Swift\n",
      "60. 'Girls Want Girls' by Drake Featuring Lil Baby\n",
      "61. 'You Should Probably Leave' by Chris Stapleton\n",
      "62. 'Who Want Smoke??' by Nardo Wick Featuring G Herbo, Lil Durk & 21 Savage\n",
      "63. 'Rockstar In His Prime' by Juice WRLD\n",
      "64. 'You Wouldn't Understand' by Juice WRLD\n",
      "65. 'Whiskey And Rain' by Michael Ray\n",
      "66. 'Merry Christmas' by Ed Sheeran & Elton John\n",
      "67. 'Sand In My Boots' by Morgan Wallen\n",
      "68. 'Enemy' by Imagine Dragons X JID\n",
      "69. 'By Your Side' by Rod Wave\n",
      "70. 'Have Mercy' by Chloe\n",
      "71. 'Big Energy' by Latto\n",
      "72. 'Cold As You' by Luke Combs\n",
      "73. 'Chosen' by Blxst & Tyga Featuring Ty Dolla $ign\n",
      "74. 'My Universe' by Coldplay x BTS\n",
      "75. 'Doom' by Juice WRLD\n",
      "76. 'Go Hard' by Juice WRLD\n",
      "77. 'One Mississippi' by Kane Brown\n",
      "78. 'Woman' by Doja Cat\n",
      "79. 'Pick Out A Christmas Tree' by Dan + Shay\n",
      "80. 'Not Enough' by Juice WRLD\n",
      "81. 'Christmas Tree Farm (Old Timey Version)' by Taylor Swift\n",
      "82. 'Man In The Mirror' by A Boogie Wit da Hoodie\n",
      "83. 'I'll Be Home For Christmas' by Camila Cabello\n",
      "84. 'Knowing You' by Kenny Chesney\n",
      "85. 'To Be Loved By You' by Parker McCollum\n",
      "86. 'From My Window' by Juice WRLD\n",
      "87. 'Relocate' by Juice WRLD\n",
      "88. ''Til You Can't' by Cody Johnson\n",
      "89. 'Message In A Bottle (Taylor's Version) (From The Vault)' by Taylor Swift\n",
      "90. 'Tequila Little Time' by Jon Pardi\n",
      "91. 'For Tonight' by Giveon\n",
      "92. 'Same Boat' by Zac Brown Band\n",
      "93. 'Family Ties' by Baby Keem & Kendrick Lamar\n",
      "94. 'Scorpio' by Moneybagg Yo\n",
      "95. 'Freedom Was A Highway' by Jimmie Allen & Brad Paisley\n",
      "96. 'No Love' by Summer Walker & SZA\n",
      "97. 'Bad Man (Smooth Criminal)' by Polo G\n",
      "98. 'Feel Alone' by Juice WRLD\n",
      "99. 'Heart On Fire' by Eric Church\n",
      "100. 'Bubbly' by Young Thug With Drake & Travis Scott\n"
     ]
    }
   ],
   "source": [
    "print(chart)"
   ]
  },
  {
   "cell_type": "code",
   "execution_count": null,
   "id": "9c042d43-d17f-4c63-aabb-68b21bc224ba",
   "metadata": {},
   "outputs": [],
   "source": []
  }
 ],
 "metadata": {
  "kernelspec": {
   "display_name": "Python 3 (ipykernel)",
   "language": "python",
   "name": "python3"
  },
  "language_info": {
   "codemirror_mode": {
    "name": "ipython",
    "version": 3
   },
   "file_extension": ".py",
   "mimetype": "text/x-python",
   "name": "python",
   "nbconvert_exporter": "python",
   "pygments_lexer": "ipython3",
   "version": "3.10.1"
  }
 },
 "nbformat": 4,
 "nbformat_minor": 5
}
