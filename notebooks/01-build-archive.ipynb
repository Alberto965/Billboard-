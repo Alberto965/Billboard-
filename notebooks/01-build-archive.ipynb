{
 "cells": [
  {
   "cell_type": "markdown",
   "metadata": {},
   "source": [
    "## Build Hot 100 archive\n",
    "\n",
    "Idea of this notebook is to build an archive of the Hot 100 from the the current date to the oldest date __1958-08-02__.\n",
    "\n",
    "However, there is a rate limit on requests to the billboard site. I've had it time out after 10 requests, but I've also had it time out after one if I've run other requests recently. \n",
    "\n",
    "For each chart, we have `chart.previousDate` to work with, which allows us to walk back in time. The loop works like this:\n",
    "\n",
    "- Open our file\n",
    "- check for the oldest date\n",
    "- Find the next oldest chart\n",
    "- Start a loop and counter and write the results of that week's chart\n",
    "- Set the chart date to the next oldest date\n",
    "- Wait a time interval\n",
    "- Check the loop and go again or stop\n",
    "\n",
    "This doesn't completely solve the rate limit, but does pretty well at 10 seconds a week.\n"
   ]
  },
  {
   "cell_type": "code",
   "execution_count": 1,
   "metadata": {},
   "outputs": [],
   "source": [
    "import billboard\n",
    "from datetime import datetime, timedelta, date\n",
    "import os\n",
    "import pandas as pd\n",
    "import time"
   ]
  },
  {
   "cell_type": "markdown",
   "metadata": {},
   "source": [
    "## Settings"
   ]
  },
  {
   "cell_type": "code",
   "execution_count": 12,
   "metadata": {},
   "outputs": [],
   "source": [
    "outfilename = '../data/hot-100-new.csv'\n",
    "chart_type = 'hot-100'\n",
    "headers = 'date,title,artist,current,previous,peak,weeks\\n'"
   ]
  },
  {
   "cell_type": "markdown",
   "metadata": {},
   "source": [
    "## Create the file"
   ]
  },
  {
   "cell_type": "code",
   "execution_count": 3,
   "metadata": {},
   "outputs": [
    {
     "name": "stdout",
     "output_type": "stream",
     "text": [
      "File has data\n"
     ]
    }
   ],
   "source": [
    "file_exists = os.path.exists(outfilename)\n",
    "\n",
    "# checks if file exists and writes if not\n",
    "if file_exists != True:\n",
    "    with open(outfilename, 'a') as outputfile:\n",
    "        outputfile.write(headers)\n",
    "        print(\"File created with header\")\n",
    "# checks if file empty and writes header if not\n",
    "else:\n",
    "    file_empty = os.stat(outfilename).st_size == 0\n",
    "    if file_empty:\n",
    "        with open(outfilename, 'a') as outputfile:\n",
    "            outputfile.write(headers)\n",
    "            print(\"Added header\")\n",
    "    else:\n",
    "        print(\"File has data\")"
   ]
  },
  {
   "cell_type": "markdown",
   "metadata": {},
   "source": [
    "## Chart loop\n",
    "\n",
    "This is currently set to grab one year at a time. There is a pause of 10 seconds after each request to avoid a rate limit on scraping. To change the number of weeks grabbed in the loop, update the `counter` variable."
   ]
  },
  {
   "cell_type": "code",
   "execution_count": 13,
   "metadata": {},
   "outputs": [
    {
     "name": "stdout",
     "output_type": "stream",
     "text": [
      "2019-04-06\n",
      "2019-03-30: '7 Rings' by Ariana Grande\n",
      "2019-03-23: '7 Rings' by Ariana Grande\n",
      "2019-03-16: 'Sucker' by Jonas Brothers\n",
      "2019-03-09: 'Shallow' by Lady Gaga & Bradley Cooper\n",
      "2019-03-02: '7 Rings' by Ariana Grande\n",
      "done\n"
     ]
    }
   ],
   "source": [
    "# read in file\n",
    "top_100 = pd.read_csv(outfilename)\n",
    "\n",
    "# set the counter\n",
    "counter = 5\n",
    "\n",
    "# set the time intervval\n",
    "timer_interval = 5\n",
    "\n",
    "# find most oldest week in output\n",
    "oldest_date = top_100.date.min()\n",
    "print(oldest_date)\n",
    "\n",
    "# set up write\n",
    "chart_date = oldest_date\n",
    "chart = billboard.ChartData(chart_type, date=chart_date)\n",
    "chart = billboard.ChartData(chart_type, str(chart.previousDate))\n",
    "\n",
    "with open(outfilename, 'a') as outputfile:\n",
    "    start_time = time.time()\n",
    "    for i in range (1,counter+1):\n",
    "        for position in range (0,100):\n",
    "            song = chart[position]\n",
    "            line_out = str(chart.date) + ',' + '\"' + song.title + '\"' + ',' + '\"' \\\n",
    "            + song.artist + '\"' + ','  + str(song.rank) + ',' + str(song.lastPos) \\\n",
    "            + ',' + str(song.peakPos) + ',' + str(song.weeks) + '\\n'\n",
    "            with open(outfilename, 'a') as outputfile:\n",
    "                outputfile.write(line_out)\n",
    "        print(chart.date + \": \" + str(chart[0]))\n",
    "        chart = billboard.ChartData(chart_type, str(chart.previousDate))\n",
    "        time.sleep(timer_interval)\n",
    "    print('done')\n",
    "outputfile.close()"
   ]
  },
  {
   "cell_type": "markdown",
   "metadata": {},
   "source": [
    "## Some testing\n",
    "\n",
    "This checks the bottom of the file to make sure there are 100 entries for each week."
   ]
  },
  {
   "cell_type": "code",
   "execution_count": null,
   "metadata": {},
   "outputs": [],
   "source": [
    "chart_peek = pd.read_csv(outfilename)\n",
    "\n",
    "grouped = chart_peek.groupby(['date']).count().sort_values('date', ascending=False)\n",
    "\n",
    "grouped.tail(10)"
   ]
  },
  {
   "cell_type": "code",
   "execution_count": null,
   "metadata": {},
   "outputs": [],
   "source": []
  }
 ],
 "metadata": {
  "kernelspec": {
   "display_name": "Python 3",
   "language": "python",
   "name": "python3"
  },
  "language_info": {
   "codemirror_mode": {
    "name": "ipython",
    "version": 3
   },
   "file_extension": ".py",
   "mimetype": "text/x-python",
   "name": "python",
   "nbconvert_exporter": "python",
   "pygments_lexer": "ipython3",
   "version": "3.7.5"
  }
 },
 "nbformat": 4,
 "nbformat_minor": 4
}
