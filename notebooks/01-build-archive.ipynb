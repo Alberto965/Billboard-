{
 "cells": [
  {
   "cell_type": "markdown",
   "metadata": {},
   "source": [
    "## Build Hot 100 archive\n",
    "\n",
    "Idea of this notebook is to build an archive of the Hot 100 from the the current date to the oldest date __1958-08-02__.\n",
    "\n",
    "However, there is a rate limit on requests to the billboard site. I've had it time out after 10 requests, but I've also had it time out after one if I've run other requests recently. \n",
    "\n",
    "For each chart, we have `chart.previousDate` to work with, which allows us to walk back in time. The loop works like this:\n",
    "\n",
    "- Open our file\n",
    "- check for the oldest date\n",
    "- loop through a number of charts and write them\n",
    "\n",
    "What I'd like to do is set this on a timer or something to avoid the error or restart after the error.\n"
   ]
  },
  {
   "cell_type": "code",
   "execution_count": 10,
   "metadata": {},
   "outputs": [],
   "source": [
    "import billboard\n",
    "from datetime import datetime, timedelta, date\n",
    "import os\n",
    "import pandas as pd\n",
    "import time"
   ]
  },
  {
   "cell_type": "markdown",
   "metadata": {},
   "source": [
    "## Settings"
   ]
  },
  {
   "cell_type": "code",
   "execution_count": 16,
   "metadata": {},
   "outputs": [],
   "source": [
    "outfilename = '../data/hot-100.csv'\n",
    "chart_type = 'hot-100'\n",
    "headers = 'date,title,artist,current,previous,peak,weeks\\n'"
   ]
  },
  {
   "cell_type": "markdown",
   "metadata": {},
   "source": [
    "## Create the file"
   ]
  },
  {
   "cell_type": "code",
   "execution_count": 3,
   "metadata": {},
   "outputs": [
    {
     "name": "stdout",
     "output_type": "stream",
     "text": [
      "File has data\n"
     ]
    }
   ],
   "source": [
    "file_exists = os.path.exists(outfilename)\n",
    "\n",
    "# checks if file exists and writes if not\n",
    "if file_exists != True:\n",
    "    with open(outfilename, 'a') as outputfile:\n",
    "        outputfile.write(headers)\n",
    "        print(\"File created with header\")\n",
    "# checks if file empty and writes header if not\n",
    "else:\n",
    "    file_empty = os.stat(outfilename).st_size == 0\n",
    "    if file_empty:\n",
    "        with open(outfilename, 'a') as outputfile:\n",
    "            outputfile.write(headers)\n",
    "            print(\"Added header\")\n",
    "    else:\n",
    "        print(\"File has data\")"
   ]
  },
  {
   "cell_type": "markdown",
   "metadata": {},
   "source": [
    "## Chart loop\n",
    "\n",
    "This is currently set to grab one year at a time. There is a pause of 10 seconds after each request to avoid a rate limit on scraping. To change the number of weeks grabbed in the loop, update the `counter` variable."
   ]
  },
  {
   "cell_type": "code",
   "execution_count": 38,
   "metadata": {},
   "outputs": [
    {
     "name": "stdout",
     "output_type": "stream",
     "text": [
      "Oldest date in file: 2012-02-11\n",
      "2012-02-04: 'Set Fire To The Rain' by Adele\n",
      "2012-01-28: 'We Found Love' by Rihanna Featuring Calvin Harris\n",
      "2012-01-21: 'We Found Love' by Rihanna Featuring Calvin Harris\n",
      "2012-01-14: 'Sexy And I Know It' by LMFAO\n",
      "2012-01-07: 'Sexy And I Know It' by LMFAO\n",
      "2011-12-31: 'We Found Love' by Rihanna Featuring Calvin Harris\n",
      "done\n"
     ]
    }
   ],
   "source": [
    "# read in file\n",
    "top_100 = pd.read_csv(outfilename)\n",
    "\n",
    "# set the counter\n",
    "counter = 6\n",
    "\n",
    "# find most oldest week in output\n",
    "oldest_date = top_100.date.min()\n",
    "print(\"Oldest date in file: \" + oldest_date)\n",
    "\n",
    "# set up write\n",
    "chart_date = oldest_date\n",
    "chart = billboard.ChartData(chart_type, date=chart_date)\n",
    "chart = billboard.ChartData(chart_type, str(chart.previousDate))\n",
    "\n",
    "with open(outfilename, 'a') as outputfile:\n",
    "    start_time = time.time()\n",
    "    interval = 1\n",
    "    for i in range (1,counter+1):\n",
    "        for position in range (0,100):\n",
    "            song = chart[position]\n",
    "            line_out = str(chart.date) + ',' + '\"' + song.title + '\"' + ',' + '\"' \\\n",
    "            + song.artist + '\"' + ','  + str(song.rank) + ',' + str(song.lastPos) \\\n",
    "            + ',' + str(song.peakPos) + ',' + str(song.weeks) + '\\n'\n",
    "            with open(outfilename, 'a') as outputfile:\n",
    "                outputfile.write(line_out)\n",
    "        print(chart.date + \": \" + str(chart[0]))\n",
    "        chart = billboard.ChartData(chart_type, str(chart.previousDate))\n",
    "        time.sleep(10)\n",
    "    print('done')"
   ]
  },
  {
   "cell_type": "markdown",
   "metadata": {},
   "source": [
    "## Some testing\n",
    "\n",
    "This checks the bottom of the file to make sure there are 100 entries for each week."
   ]
  },
  {
   "cell_type": "code",
   "execution_count": 39,
   "metadata": {},
   "outputs": [
    {
     "data": {
      "text/html": [
       "<div>\n",
       "<style scoped>\n",
       "    .dataframe tbody tr th:only-of-type {\n",
       "        vertical-align: middle;\n",
       "    }\n",
       "\n",
       "    .dataframe tbody tr th {\n",
       "        vertical-align: top;\n",
       "    }\n",
       "\n",
       "    .dataframe thead th {\n",
       "        text-align: right;\n",
       "    }\n",
       "</style>\n",
       "<table border=\"1\" class=\"dataframe\">\n",
       "  <thead>\n",
       "    <tr style=\"text-align: right;\">\n",
       "      <th></th>\n",
       "      <th>title</th>\n",
       "      <th>artist</th>\n",
       "      <th>current</th>\n",
       "      <th>previous</th>\n",
       "      <th>peak</th>\n",
       "      <th>weeks</th>\n",
       "    </tr>\n",
       "    <tr>\n",
       "      <th>date</th>\n",
       "      <th></th>\n",
       "      <th></th>\n",
       "      <th></th>\n",
       "      <th></th>\n",
       "      <th></th>\n",
       "      <th></th>\n",
       "    </tr>\n",
       "  </thead>\n",
       "  <tbody>\n",
       "    <tr>\n",
       "      <th>2012-03-03</th>\n",
       "      <td>100</td>\n",
       "      <td>100</td>\n",
       "      <td>100</td>\n",
       "      <td>100</td>\n",
       "      <td>100</td>\n",
       "      <td>100</td>\n",
       "    </tr>\n",
       "    <tr>\n",
       "      <th>2012-02-25</th>\n",
       "      <td>100</td>\n",
       "      <td>100</td>\n",
       "      <td>100</td>\n",
       "      <td>100</td>\n",
       "      <td>100</td>\n",
       "      <td>100</td>\n",
       "    </tr>\n",
       "    <tr>\n",
       "      <th>2012-02-18</th>\n",
       "      <td>100</td>\n",
       "      <td>100</td>\n",
       "      <td>100</td>\n",
       "      <td>100</td>\n",
       "      <td>100</td>\n",
       "      <td>100</td>\n",
       "    </tr>\n",
       "    <tr>\n",
       "      <th>2012-02-11</th>\n",
       "      <td>100</td>\n",
       "      <td>100</td>\n",
       "      <td>100</td>\n",
       "      <td>100</td>\n",
       "      <td>100</td>\n",
       "      <td>100</td>\n",
       "    </tr>\n",
       "    <tr>\n",
       "      <th>2012-02-04</th>\n",
       "      <td>100</td>\n",
       "      <td>100</td>\n",
       "      <td>100</td>\n",
       "      <td>100</td>\n",
       "      <td>100</td>\n",
       "      <td>100</td>\n",
       "    </tr>\n",
       "    <tr>\n",
       "      <th>2012-01-28</th>\n",
       "      <td>100</td>\n",
       "      <td>100</td>\n",
       "      <td>100</td>\n",
       "      <td>100</td>\n",
       "      <td>100</td>\n",
       "      <td>100</td>\n",
       "    </tr>\n",
       "    <tr>\n",
       "      <th>2012-01-21</th>\n",
       "      <td>100</td>\n",
       "      <td>100</td>\n",
       "      <td>100</td>\n",
       "      <td>100</td>\n",
       "      <td>100</td>\n",
       "      <td>100</td>\n",
       "    </tr>\n",
       "    <tr>\n",
       "      <th>2012-01-14</th>\n",
       "      <td>100</td>\n",
       "      <td>100</td>\n",
       "      <td>100</td>\n",
       "      <td>100</td>\n",
       "      <td>100</td>\n",
       "      <td>100</td>\n",
       "    </tr>\n",
       "    <tr>\n",
       "      <th>2012-01-07</th>\n",
       "      <td>100</td>\n",
       "      <td>100</td>\n",
       "      <td>100</td>\n",
       "      <td>100</td>\n",
       "      <td>100</td>\n",
       "      <td>100</td>\n",
       "    </tr>\n",
       "    <tr>\n",
       "      <th>2011-12-31</th>\n",
       "      <td>100</td>\n",
       "      <td>100</td>\n",
       "      <td>100</td>\n",
       "      <td>100</td>\n",
       "      <td>100</td>\n",
       "      <td>100</td>\n",
       "    </tr>\n",
       "  </tbody>\n",
       "</table>\n",
       "</div>"
      ],
      "text/plain": [
       "            title  artist  current  previous  peak  weeks\n",
       "date                                                     \n",
       "2012-03-03    100     100      100       100   100    100\n",
       "2012-02-25    100     100      100       100   100    100\n",
       "2012-02-18    100     100      100       100   100    100\n",
       "2012-02-11    100     100      100       100   100    100\n",
       "2012-02-04    100     100      100       100   100    100\n",
       "2012-01-28    100     100      100       100   100    100\n",
       "2012-01-21    100     100      100       100   100    100\n",
       "2012-01-14    100     100      100       100   100    100\n",
       "2012-01-07    100     100      100       100   100    100\n",
       "2011-12-31    100     100      100       100   100    100"
      ]
     },
     "execution_count": 39,
     "metadata": {},
     "output_type": "execute_result"
    }
   ],
   "source": [
    "chart_peek = pd.read_csv(outfilename)\n",
    "\n",
    "grouped = chart_peek.groupby(['date']).count().sort_values('date', ascending=False)\n",
    "\n",
    "grouped.tail(10)"
   ]
  },
  {
   "cell_type": "code",
   "execution_count": null,
   "metadata": {},
   "outputs": [],
   "source": []
  }
 ],
 "metadata": {
  "kernelspec": {
   "display_name": "Python 3",
   "language": "python",
   "name": "python3"
  },
  "language_info": {
   "codemirror_mode": {
    "name": "ipython",
    "version": 3
   },
   "file_extension": ".py",
   "mimetype": "text/x-python",
   "name": "python",
   "nbconvert_exporter": "python",
   "pygments_lexer": "ipython3",
   "version": "3.7.5"
  }
 },
 "nbformat": 4,
 "nbformat_minor": 4
}
