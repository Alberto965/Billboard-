{
 "cells": [
  {
   "cell_type": "markdown",
   "metadata": {},
   "source": [
    "## Build Billboard 200 archive\n",
    "\n",
    "> 1988 and 1989 not complete. Artist won't parse. Oct. 15th 1988 through Nov. 15 1989 there are problems.\n",
    "\n",
    "This notebook builds a year's worth of Billboard 200 charts at a time (but could be changed to pull other charts by adjusting the `chart_type` field. The idea is to build an archive one year at a time. This allows me to fix a single year if it is a problem. And there were issues with timeouts on other charts.\n",
    "\n",
    "A little about the Billboard 200: [The chart grew from a weekly top 10 list in 1956 to become a top 200 in May 1967, and acquired its present title in March 1992](https://en.wikipedia.org/wiki/Billboard_200).\n",
    "\n",
    "There is a rate limit on requests to the billboard site. I've had it time out after 10 requests, but I've also had it time out after one if I've run other requests recently.\n",
    "\n",
    "For each chart, we have `chart.previousDate` to work with, which allows us to walk back in time. The loop works like this:\n",
    "\n",
    "- Open our file\n",
    "- check for the oldest date, start new if not results already\n",
    "- Find the next oldest chart\n",
    "- Start a loop and counter and write the results of that week's chart\n",
    "- Set the chart date to the next oldest date\n",
    "- Check if that is in our current year. Break if not.\n",
    "- Wait a time interval and loop again if counter is not maxed\n",
    "\n",
    "This doesn't completely solve the rate limit, but does pretty well at 10 seconds a week.\n"
   ]
  },
  {
   "cell_type": "code",
   "execution_count": 84,
   "metadata": {},
   "outputs": [],
   "source": [
    "import billboard\n",
    "from datetime import datetime, timedelta, date\n",
    "import os\n",
    "import pandas as pd\n",
    "import time"
   ]
  },
  {
   "cell_type": "markdown",
   "metadata": {},
   "source": [
    "## Settings"
   ]
  },
  {
   "cell_type": "code",
   "execution_count": 85,
   "metadata": {},
   "outputs": [
    {
     "name": "stdout",
     "output_type": "stream",
     "text": [
      "../data/billboard-200-1977.csv\n"
     ]
    }
   ],
   "source": [
    "# chart type from api\n",
    "chart_type = 'billboard-200'\n",
    "\n",
    "# year we are working on\n",
    "output_year = \"1977\"\n",
    "\n",
    "# output path\n",
    "outfilename = \"../data/billboard-200-\" + output_year + \".csv\"\n",
    "\n",
    "print(outfilename)"
   ]
  },
  {
   "cell_type": "markdown",
   "metadata": {},
   "source": [
    "## Create the file"
   ]
  },
  {
   "cell_type": "code",
   "execution_count": 86,
   "metadata": {},
   "outputs": [
    {
     "name": "stdout",
     "output_type": "stream",
     "text": [
      "File created with header\n"
     ]
    }
   ],
   "source": [
    "# headers\n",
    "header = 'date,title,artist,current,previous,peak,weeks,new\\n'\n",
    "\n",
    "# set exists flag\n",
    "file_exists = os.path.exists(outfilename)\n",
    "\n",
    "# checks if file exists and writes if not\n",
    "if file_exists != True:\n",
    "    with open(outfilename, 'a') as outputfile:\n",
    "        outputfile.write(header)\n",
    "        print(\"File created with header\")\n",
    "# checks if file empty and writes header if not\n",
    "else:\n",
    "    file_empty = os.stat(outfilename).st_size == 0\n",
    "    if file_empty:\n",
    "        with open(outfilename, 'a') as outputfile:\n",
    "            outputfile.write(header)\n",
    "            print(\"Added header\")\n",
    "    else:\n",
    "        print(\"File has data\")"
   ]
  },
  {
   "cell_type": "markdown",
   "metadata": {},
   "source": [
    "## Chart loop\n",
    "\n",
    "This loop checks the most recent date of the current year's file. If it is new, it starts with the last chart in December and then through older charts. If there are charts already, it picks up where it left off.\n",
    "\n",
    "Beyond `output_year` above, there are two settings to help control rate limiting:\n",
    "\n",
    "- counter: How many loops it will do before stopping.\n",
    "- timer_interval: How long to wait before getting the next chart."
   ]
  },
  {
   "cell_type": "code",
   "execution_count": 87,
   "metadata": {},
   "outputs": [
    {
     "name": "stdout",
     "output_type": "stream",
     "text": [
      "Starting new year\n",
      "Beginning date: 1977-12-31\n",
      "1977-12-31: 'Simple Dreams' by Linda Ronstadt\n",
      "1977-12-24: 'Simple Dreams' by Linda Ronstadt\n",
      "1977-12-17: 'Simple Dreams' by Linda Ronstadt\n",
      "1977-12-10: 'Simple Dreams' by Linda Ronstadt\n",
      "1977-12-03: 'Simple Dreams' by Linda Ronstadt\n",
      "1977-11-26: 'Rumours' by Fleetwood Mac\n",
      "1977-11-19: 'Rumours' by Fleetwood Mac\n",
      "1977-11-12: 'Rumours' by Fleetwood Mac\n",
      "1977-11-05: 'Rumours' by Fleetwood Mac\n",
      "1977-10-29: 'Rumours' by Fleetwood Mac\n",
      "1977-10-22: 'Rumours' by Fleetwood Mac\n",
      "1977-10-15: 'Rumours' by Fleetwood Mac\n",
      "1977-10-08: 'Rumours' by Fleetwood Mac\n",
      "1977-10-01: 'Rumours' by Fleetwood Mac\n",
      "1977-09-24: 'Rumours' by Fleetwood Mac\n",
      "1977-09-17: 'Rumours' by Fleetwood Mac\n",
      "1977-09-10: 'Rumours' by Fleetwood Mac\n",
      "1977-09-03: 'Rumours' by Fleetwood Mac\n",
      "1977-08-27: 'Rumours' by Fleetwood Mac\n",
      "1977-08-20: 'Rumours' by Fleetwood Mac\n",
      "1977-08-13: 'Rumours' by Fleetwood Mac\n",
      "1977-08-06: 'Rumours' by Fleetwood Mac\n",
      "1977-07-30: 'Rumours' by Fleetwood Mac\n",
      "1977-07-23: 'Rumours' by Fleetwood Mac\n",
      "1977-07-16: 'Barry Manilow Live' by Barry Manilow\n",
      "1977-07-09: 'Rumours' by Fleetwood Mac\n",
      "1977-07-02: 'Rumours' by Fleetwood Mac\n",
      "1977-06-25: 'Rumours' by Fleetwood Mac\n",
      "1977-06-18: 'Rumours' by Fleetwood Mac\n",
      "1977-06-11: 'Rumours' by Fleetwood Mac\n",
      "1977-06-04: 'Rumours' by Fleetwood Mac\n",
      "1977-05-28: 'Rumours' by Fleetwood Mac\n",
      "1977-05-21: 'Rumours' by Fleetwood Mac\n",
      "1977-05-14: 'Hotel California' by Eagles\n",
      "1977-05-07: 'Hotel California' by Eagles\n",
      "1977-04-30: 'Hotel California' by Eagles\n",
      "1977-04-23: 'Hotel California' by Eagles\n",
      "1977-04-16: 'Hotel California' by Eagles\n",
      "1977-04-09: 'Rumours' by Fleetwood Mac\n",
      "1977-04-02: 'Rumours' by Fleetwood Mac\n",
      "1977-03-26: 'Hotel California' by Eagles\n",
      "1977-03-19: 'A Star Is Born (Soundtrack)' by Barbra Streisand & Kris Kristofferson\n",
      "1977-03-12: 'A Star Is Born (Soundtrack)' by Barbra Streisand & Kris Kristofferson\n",
      "1977-03-05: 'A Star Is Born (Soundtrack)' by Barbra Streisand & Kris Kristofferson\n",
      "1977-02-26: 'A Star Is Born (Soundtrack)' by Barbra Streisand & Kris Kristofferson\n",
      "1977-02-19: 'A Star Is Born (Soundtrack)' by Barbra Streisand & Kris Kristofferson\n",
      "1977-02-12: 'A Star Is Born (Soundtrack)' by Barbra Streisand & Kris Kristofferson\n",
      "1977-02-05: 'Hotel California' by Eagles\n",
      "1977-01-29: 'Songs In The Key Of Life' by Stevie Wonder\n",
      "1977-01-22: 'Wings Over America' by Paul McCartney And Wings\n",
      "1977-01-15: 'Hotel California' by Eagles\n",
      "1977-01-08: 'Songs In The Key Of Life' by Stevie Wonder\n",
      "1977-01-01: 'Songs In The Key Of Life' by Stevie Wonder\n",
      "Year is over\n",
      "done\n"
     ]
    }
   ],
   "source": [
    "# set the counter\n",
    "counter = 53\n",
    "\n",
    "# set the time intervval\n",
    "timer_interval = 10\n",
    "\n",
    "# read in file\n",
    "chart_file = pd.read_csv(outfilename)\n",
    "\n",
    "# find most oldest week in output\n",
    "oldest_date = chart_file.date.min()\n",
    "\n",
    "# if oldest_date isnull, then use begin_chart date\n",
    "if pd.isnull(oldest_date):\n",
    "    begin_chart_date = output_year + \"-12-25\"\n",
    "    chart = billboard.ChartData(chart_type, date=begin_chart_date)\n",
    "    print(\"Starting new year\")\n",
    "    print(\"Beginning date: \" + chart.date)\n",
    "# else, use next previous date\n",
    "else:\n",
    "    chart = billboard.ChartData(chart_type, date=oldest_date)\n",
    "    chart = billboard.ChartData(chart_type, str(chart.previousDate))\n",
    "    print(\"Picking up after: \" + oldest_date)\n",
    "    print(\"Beginning date: \" + chart.date)\n",
    "\n",
    "with open(outfilename, 'a') as outputfile:\n",
    "    start_time = time.time()\n",
    "    for i in range (1,counter+1):\n",
    "        for position in range (0,200):\n",
    "            song = chart[position]\n",
    "            line_out = str(chart.date) + ',' + '\"' + song.title + '\"' + ',' \\\n",
    "            + '\"' + song.artist + '\"' + ','  + str(song.rank) + ',' \\\n",
    "            + str(song.lastPos) + ',' + str(song.peakPos) + ',' \\\n",
    "            + str(song.weeks) + ',' + str(song.isNew) + '\\n'\n",
    "            with open(outfilename, 'a') as outputfile:\n",
    "                outputfile.write(line_out)\n",
    "        print(chart.date + \": \" + str(chart[0]))\n",
    "        chart = billboard.ChartData(chart_type, str(chart.previousDate))\n",
    "        # check if year is over\n",
    "        if chart.date[:4] != output_year:\n",
    "            print(\"Year is over\")\n",
    "            break\n",
    "        else:\n",
    "            time.sleep(timer_interval)\n",
    "    print('done')\n",
    "outputfile.close()"
   ]
  },
  {
   "cell_type": "markdown",
   "metadata": {},
   "source": [
    "## Some testing\n",
    "\n",
    "This checks the lengh of the last file processed. Should be 10400 or maybe 10600 if there was a chart on both the first and last day of the year or perhaps a leap year."
   ]
  },
  {
   "cell_type": "code",
   "execution_count": 88,
   "metadata": {},
   "outputs": [
    {
     "data": {
      "text/plain": [
       "10600"
      ]
     },
     "execution_count": 88,
     "metadata": {},
     "output_type": "execute_result"
    }
   ],
   "source": [
    "# read in the file\n",
    "chart_peek = pd.read_csv(outfilename)\n",
    "\n",
    "# check the length\n",
    "len(chart_peek)"
   ]
  },
  {
   "cell_type": "code",
   "execution_count": null,
   "metadata": {},
   "outputs": [],
   "source": []
  }
 ],
 "metadata": {
  "kernelspec": {
   "display_name": "Python 3",
   "language": "python",
   "name": "python3"
  },
  "language_info": {
   "codemirror_mode": {
    "name": "ipython",
    "version": 3
   },
   "file_extension": ".py",
   "mimetype": "text/x-python",
   "name": "python",
   "nbconvert_exporter": "python",
   "pygments_lexer": "ipython3",
   "version": "3.8.3"
  }
 },
 "nbformat": 4,
 "nbformat_minor": 4
}
