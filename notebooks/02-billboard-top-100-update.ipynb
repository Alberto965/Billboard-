{
 "cells": [
  {
   "cell_type": "markdown",
   "metadata": {},
   "source": [
    "# Write Billboard Top 100\n",
    "\n",
    "This idea of this notebook is to check the most recent date in the output file, and write all the charts to the present date.\n",
    "\n",
    "> This is very hacky at the moment. I should also be updated with the time-out steps in build-archive (which are not perfect).\n",
    "\n",
    "The update will time out if there is somewhere around 10+ weeks. There could be a major problem if it times out before it gets through its counter, as in it could get the most recent week, but not some gap weeks. The next running would not fill the gaps. Not quite sure what to do about that at this point.\n",
    "\n",
    "So, save the repo before updating. Maybe do a check at the end."
   ]
  },
  {
   "cell_type": "code",
   "execution_count": 1,
   "metadata": {},
   "outputs": [],
   "source": [
    "import billboard\n",
    "from datetime import datetime, timedelta, date\n",
    "import os\n",
    "import pandas as pd"
   ]
  },
  {
   "cell_type": "markdown",
   "metadata": {},
   "source": [
    "## Settings\n",
    "\n",
    "Some variables that don't typically change but could."
   ]
  },
  {
   "cell_type": "code",
   "execution_count": 2,
   "metadata": {},
   "outputs": [],
   "source": [
    "outfilename = '../data/output.csv'\n",
    "chart_type = 'hot-100'\n",
    "headers = 'date,title,artist,current,previous,peak,weeks\\n'"
   ]
  },
  {
   "cell_type": "markdown",
   "metadata": {},
   "source": [
    "## Create file if necessary\n",
    "\n",
    "Checks for file. Creates if not there. Adds headers if empty."
   ]
  },
  {
   "cell_type": "code",
   "execution_count": 3,
   "metadata": {},
   "outputs": [
    {
     "name": "stdout",
     "output_type": "stream",
     "text": [
      "File has data\n"
     ]
    }
   ],
   "source": [
    "file_exists = os.path.exists(outfilename)\n",
    "\n",
    "# checks if file exists and writes if not\n",
    "if file_exists != True:\n",
    "    with open(outfilename, 'a') as outputfile:\n",
    "        outputfile.write(headers)\n",
    "        print(\"File created with header\")\n",
    "# checks if file empty and writes header if not\n",
    "else:\n",
    "    file_empty = os.stat(outfilename).st_size == 0\n",
    "    if file_empty:\n",
    "        with open(outfilename, 'a') as outputfile:\n",
    "            outputfile.write(headers)\n",
    "            print(\"Added header\")\n",
    "    else:\n",
    "        print(\"File has data\")"
   ]
  },
  {
   "cell_type": "markdown",
   "metadata": {},
   "source": [
    "## Check most recent date of output\n",
    "\n",
    "> This portion will error if there is no date in the file.\n",
    "\n",
    "- Import the file\n",
    "- Get max of date\n",
    "- Figure out how many weeks to current week\n",
    "- Billboard comes out on Saturday, which is day 6 in python\n",
    "- Set counter to number of weeks to current date\n",
    "- Then the script should pull the number of weeks from max saturday\n"
   ]
  },
  {
   "cell_type": "code",
   "execution_count": 5,
   "metadata": {},
   "outputs": [
    {
     "name": "stdout",
     "output_type": "stream",
     "text": [
      "Most recent date in file: 2020-01-18\n",
      "Current chart date is: 2020-01-18\n",
      "Weeks since last update: 0\n",
      "Weeks to pull: 0\n"
     ]
    }
   ],
   "source": [
    "def weeks_diff(start, end):\n",
    "    \"\"\"\n",
    "    Find difference between last date in chart\n",
    "    and current chart date\n",
    "    \"\"\"\n",
    "    days = pd.to_datetime(end) - pd.to_datetime(start)\n",
    "    week = int(pd.Timedelta(days).days / 7)\n",
    "    remainder = pd.Timedelta(days).days % 7\n",
    "    return week\n",
    "\n",
    "# read in file\n",
    "top_100 = pd.read_csv(outfilename)\n",
    "\n",
    "# find most recent week in output\n",
    "most_recent_date = top_100.date.max()\n",
    "print(\"Most recent date in file: \" + most_recent_date)\n",
    "\n",
    "# find current chart date\n",
    "current_chart_date = billboard.ChartData(chart_type).date\n",
    "print(\"Current chart date is: \" + current_chart_date)\n",
    "\n",
    "# weeks from last update\n",
    "weeks_since_update = weeks_diff(most_recent_date, current_chart_date)\n",
    "print(\"Weeks since last update: \" + str(weeks_since_update))\n",
    "\n",
    "# set counter based on weeks to update\n",
    "counter = weeks_since_update\n",
    "print(\"Weeks to pull: \" + str(counter))\n"
   ]
  },
  {
   "cell_type": "markdown",
   "metadata": {},
   "source": [
    "## Writing the files\n",
    "\n",
    "This writes the file based on the `counter` and `chart_date` above. I have to figure out how to check the most recent date and the pull new lists."
   ]
  },
  {
   "cell_type": "code",
   "execution_count": 6,
   "metadata": {},
   "outputs": [
    {
     "name": "stdout",
     "output_type": "stream",
     "text": [
      "done\n"
     ]
    }
   ],
   "source": [
    "# counter = 2 # number of charts to be pulled at a time\n",
    "# start_date = '2019-12-01'\n",
    "chart_date = current_chart_date\n",
    "chart = billboard.ChartData(chart_type, date=chart_date)\n",
    "\n",
    "with open(outfilename, 'a') as outputfile:\n",
    "    for i in range (1,counter+1):\n",
    "        for position in range (0,100):\n",
    "            song = chart[position]\n",
    "            line_out = str(chart.date) + ',' + '\"' + song.title + '\"' + ',' + '\"' \\\n",
    "            + song.artist + '\"' + ','  + str(song.rank) + ',' + str(song.lastPos) \\\n",
    "            + ',' + str(song.peakPos) + ',' + str(song.weeks) + '\\n'\n",
    "            with open(outfilename, 'a') as outputfile:\n",
    "                outputfile.write(line_out)\n",
    "        print(chart.previousDate)\n",
    "        print(chart[0])\n",
    "        chart_date = chart.previousDate\n",
    "        chart = billboard.ChartData(chart_type, str(chart.previousDate))\n",
    "    print('done')"
   ]
  },
  {
   "cell_type": "markdown",
   "metadata": {},
   "source": [
    "## Checking recent entries\n",
    "\n",
    "Check through the most recent dates to make sure there aren't any gaps. If there are, I'm not sure what to do."
   ]
  },
  {
   "cell_type": "code",
   "execution_count": 7,
   "metadata": {},
   "outputs": [
    {
     "data": {
      "text/html": [
       "<div>\n",
       "<style scoped>\n",
       "    .dataframe tbody tr th:only-of-type {\n",
       "        vertical-align: middle;\n",
       "    }\n",
       "\n",
       "    .dataframe tbody tr th {\n",
       "        vertical-align: top;\n",
       "    }\n",
       "\n",
       "    .dataframe thead th {\n",
       "        text-align: right;\n",
       "    }\n",
       "</style>\n",
       "<table border=\"1\" class=\"dataframe\">\n",
       "  <thead>\n",
       "    <tr style=\"text-align: right;\">\n",
       "      <th></th>\n",
       "      <th>title</th>\n",
       "      <th>artist</th>\n",
       "      <th>current</th>\n",
       "      <th>previous</th>\n",
       "      <th>peak</th>\n",
       "      <th>weeks</th>\n",
       "    </tr>\n",
       "    <tr>\n",
       "      <th>date</th>\n",
       "      <th></th>\n",
       "      <th></th>\n",
       "      <th></th>\n",
       "      <th></th>\n",
       "      <th></th>\n",
       "      <th></th>\n",
       "    </tr>\n",
       "  </thead>\n",
       "  <tbody>\n",
       "    <tr>\n",
       "      <th>2020-01-18</th>\n",
       "      <td>100</td>\n",
       "      <td>100</td>\n",
       "      <td>100</td>\n",
       "      <td>100</td>\n",
       "      <td>100</td>\n",
       "      <td>100</td>\n",
       "    </tr>\n",
       "    <tr>\n",
       "      <th>2020-01-11</th>\n",
       "      <td>100</td>\n",
       "      <td>100</td>\n",
       "      <td>100</td>\n",
       "      <td>100</td>\n",
       "      <td>100</td>\n",
       "      <td>100</td>\n",
       "    </tr>\n",
       "    <tr>\n",
       "      <th>2020-01-04</th>\n",
       "      <td>100</td>\n",
       "      <td>100</td>\n",
       "      <td>100</td>\n",
       "      <td>100</td>\n",
       "      <td>100</td>\n",
       "      <td>100</td>\n",
       "    </tr>\n",
       "    <tr>\n",
       "      <th>2019-12-28</th>\n",
       "      <td>100</td>\n",
       "      <td>100</td>\n",
       "      <td>100</td>\n",
       "      <td>100</td>\n",
       "      <td>100</td>\n",
       "      <td>100</td>\n",
       "    </tr>\n",
       "    <tr>\n",
       "      <th>2019-12-21</th>\n",
       "      <td>100</td>\n",
       "      <td>100</td>\n",
       "      <td>100</td>\n",
       "      <td>100</td>\n",
       "      <td>100</td>\n",
       "      <td>100</td>\n",
       "    </tr>\n",
       "    <tr>\n",
       "      <th>2019-12-14</th>\n",
       "      <td>100</td>\n",
       "      <td>100</td>\n",
       "      <td>100</td>\n",
       "      <td>100</td>\n",
       "      <td>100</td>\n",
       "      <td>100</td>\n",
       "    </tr>\n",
       "    <tr>\n",
       "      <th>2019-12-07</th>\n",
       "      <td>100</td>\n",
       "      <td>100</td>\n",
       "      <td>100</td>\n",
       "      <td>100</td>\n",
       "      <td>100</td>\n",
       "      <td>100</td>\n",
       "    </tr>\n",
       "  </tbody>\n",
       "</table>\n",
       "</div>"
      ],
      "text/plain": [
       "            title  artist  current  previous  peak  weeks\n",
       "date                                                     \n",
       "2020-01-18    100     100      100       100   100    100\n",
       "2020-01-11    100     100      100       100   100    100\n",
       "2020-01-04    100     100      100       100   100    100\n",
       "2019-12-28    100     100      100       100   100    100\n",
       "2019-12-21    100     100      100       100   100    100\n",
       "2019-12-14    100     100      100       100   100    100\n",
       "2019-12-07    100     100      100       100   100    100"
      ]
     },
     "execution_count": 7,
     "metadata": {},
     "output_type": "execute_result"
    }
   ],
   "source": [
    "chart_update = pd.read_csv(outfilename)\n",
    "\n",
    "grouped = chart_update.groupby(['date']).count().sort_values('date', ascending=False)\n",
    "\n",
    "grouped.head(25)"
   ]
  },
  {
   "cell_type": "code",
   "execution_count": null,
   "metadata": {},
   "outputs": [],
   "source": []
  }
 ],
 "metadata": {
  "kernelspec": {
   "display_name": "Python 3",
   "language": "python",
   "name": "python3"
  },
  "language_info": {
   "codemirror_mode": {
    "name": "ipython",
    "version": 3
   },
   "file_extension": ".py",
   "mimetype": "text/x-python",
   "name": "python",
   "nbconvert_exporter": "python",
   "pygments_lexer": "ipython3",
   "version": "3.7.5"
  }
 },
 "nbformat": 4,
 "nbformat_minor": 4
}
