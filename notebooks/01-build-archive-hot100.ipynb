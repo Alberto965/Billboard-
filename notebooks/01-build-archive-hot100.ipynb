{
 "cells": [
  {
   "cell_type": "markdown",
   "metadata": {},
   "source": [
    "## Build Hot 100 archive\n",
    "\n",
    "> There are some significant flaws in the files resulting from these scripts that make the data fairly unusable. Since titles and artists mix quotes and include commas, columns are not parsed correctly. This could possible be fixed in the script, or after the fact, but I don't have it in me to figure it out.\n",
    "\n",
    "Idea of this notebook is to build an archive of the Hot 100 from the the current date to the oldest date __1958-08-02__. It's currently set up to pull a year's worth. The idea is to stack them later. (I started doing it by year after hitting the timeouts listed above, just in case it was a reading error locally on a large file. The doesn't appear to be the case.)\n",
    "\n",
    "There is a rate limit on requests to the billboard site. I've had it time out after 10 requests, but I've also had it time out after one if I've run other requests recently.\n",
    "\n",
    "For each chart, we have `chart.previousDate` to work with, which allows us to walk back in time. The loop works like this:\n",
    "\n",
    "- Open our file\n",
    "- check for the oldest date, start new if not results already\n",
    "- Find the next oldest chart\n",
    "- Start a loop and counter and write the results of that week's chart\n",
    "- Set the chart date to the next oldest date\n",
    "- Check if that is in our current year. Break if not.\n",
    "- Wait a time interval and loop again if counter is not maxed\n",
    "\n",
    "This doesn't completely solve the rate limit, but does pretty well at 10 seconds a week.\n"
   ]
  },
  {
   "cell_type": "code",
   "execution_count": 1,
   "metadata": {},
   "outputs": [],
   "source": [
    "import billboard\n",
    "from datetime import datetime, timedelta, date\n",
    "import os\n",
    "import pandas as pd\n",
    "import time"
   ]
  },
  {
   "cell_type": "markdown",
   "metadata": {},
   "source": [
    "## Settings"
   ]
  },
  {
   "cell_type": "code",
   "execution_count": 14,
   "metadata": {},
   "outputs": [
    {
     "name": "stdout",
     "output_type": "stream",
     "text": [
      "../data/hot-100-1997.csv\n"
     ]
    }
   ],
   "source": [
    "# chart type from api\n",
    "chart_type = 'hot-100'\n",
    "\n",
    "# year we are working on\n",
    "output_year = \"1997\"\n",
    "\n",
    "# output path\n",
    "outfilename = \"../data/hot-100-\" + output_year + \".csv\"\n",
    "\n",
    "print(outfilename)"
   ]
  },
  {
   "cell_type": "markdown",
   "metadata": {},
   "source": [
    "## Create the file"
   ]
  },
  {
   "cell_type": "code",
   "execution_count": 15,
   "metadata": {},
   "outputs": [
    {
     "name": "stdout",
     "output_type": "stream",
     "text": [
      "File created with header\n"
     ]
    }
   ],
   "source": [
    "# headers\n",
    "header = 'date,title,artist,current,previous,peak,weeks\\n'\n",
    "\n",
    "# set exists flag\n",
    "file_exists = os.path.exists(outfilename)\n",
    "\n",
    "# checks if file exists and writes if not\n",
    "if file_exists != True:\n",
    "    with open(outfilename, 'a') as outputfile:\n",
    "        outputfile.write(header)\n",
    "        print(\"File created with header\")\n",
    "# checks if file empty and writes header if not\n",
    "else:\n",
    "    file_empty = os.stat(outfilename).st_size == 0\n",
    "    if file_empty:\n",
    "        with open(outfilename, 'a') as outputfile:\n",
    "            outputfile.write(header)\n",
    "            print(\"Added header\")\n",
    "    else:\n",
    "        print(\"File has data\")"
   ]
  },
  {
   "cell_type": "markdown",
   "metadata": {},
   "source": [
    "## Chart loop\n",
    "\n",
    "This loop checks the most recent date of the current year's file. If it is new, it starts with the last chart in December and then through older charts. If there are charts already, it picks up where it left off.\n",
    "\n",
    "Beyond `output_year` above, there are two settings to help control rate limiting:\n",
    "\n",
    "- counter: How many loops it will do before stopping.\n",
    "- timer_interval: How long to wait before getting the next chart."
   ]
  },
  {
   "cell_type": "code",
   "execution_count": 16,
   "metadata": {},
   "outputs": [
    {
     "name": "stdout",
     "output_type": "stream",
     "text": [
      "Starting new year\n",
      "Beginning date: 1997-12-27\n",
      "1997-12-27: 'Candle In The Wind 1997/Something About The Way You Look Tonight' by Elton John\n",
      "1997-12-20: 'Candle In The Wind 1997/Something About The Way You Look Tonight' by Elton John\n",
      "1997-12-13: 'Candle In The Wind 1997/Something About The Way You Look Tonight' by Elton John\n",
      "1997-12-06: 'Candle In The Wind 1997/Something About The Way You Look Tonight' by Elton John\n",
      "1997-11-29: 'Candle In The Wind 1997/Something About The Way You Look Tonight' by Elton John\n",
      "1997-11-22: 'Candle In The Wind 1997/Something About The Way You Look Tonight' by Elton John\n",
      "1997-11-15: 'Candle In The Wind 1997/Something About The Way You Look Tonight' by Elton John\n",
      "1997-11-08: 'Candle In The Wind 1997/Something About The Way You Look Tonight' by Elton John\n",
      "1997-11-01: 'Candle In The Wind 1997/Something About The Way You Look Tonight' by Elton John\n",
      "1997-10-25: 'Candle In The Wind 1997/Something About The Way You Look Tonight' by Elton John\n",
      "1997-10-18: 'Candle In The Wind 1997/Something About The Way You Look Tonight' by Elton John\n",
      "1997-10-11: 'Candle In The Wind 1997/Something About The Way You Look Tonight' by Elton John\n",
      "1997-10-04: '4 Seasons Of Loneliness' by Boyz II Men\n",
      "1997-09-27: 'Honey' by Mariah Carey\n",
      "1997-09-20: 'Honey' by Mariah Carey\n",
      "1997-09-13: 'Honey' by Mariah Carey\n",
      "1997-09-06: 'Mo Money Mo Problems' by The Notorious B.I.G. Featuring Puff Daddy & Mase\n",
      "1997-08-30: 'Mo Money Mo Problems' by The Notorious B.I.G. Featuring Puff Daddy & Mase\n",
      "1997-08-23: 'I'll Be Missing You' by Puff Daddy & Faith Evans Featuring 112\n",
      "1997-08-16: 'I'll Be Missing You' by Puff Daddy & Faith Evans Featuring 112\n",
      "1997-08-09: 'I'll Be Missing You' by Puff Daddy & Faith Evans Featuring 112\n",
      "1997-08-02: 'I'll Be Missing You' by Puff Daddy & Faith Evans Featuring 112\n",
      "1997-07-26: 'I'll Be Missing You' by Puff Daddy & Faith Evans Featuring 112\n",
      "1997-07-19: 'I'll Be Missing You' by Puff Daddy & Faith Evans Featuring 112\n",
      "1997-07-12: 'I'll Be Missing You' by Puff Daddy & Faith Evans Featuring 112\n",
      "1997-07-05: 'I'll Be Missing You' by Puff Daddy & Faith Evans Featuring 112\n",
      "1997-06-28: 'I'll Be Missing You' by Puff Daddy & Faith Evans Featuring 112\n",
      "1997-06-21: 'I'll Be Missing You' by Puff Daddy & Faith Evans Featuring 112\n",
      "1997-06-14: 'I'll Be Missing You' by Puff Daddy & Faith Evans Featuring 112\n",
      "1997-06-07: 'MMMBop' by Hanson\n",
      "1997-05-31: 'MMMBop' by Hanson\n",
      "1997-05-24: 'MMMBop' by Hanson\n",
      "1997-05-17: 'Hypnotize' by The Notorious B.I.G.\n",
      "1997-05-10: 'Hypnotize' by The Notorious B.I.G.\n",
      "1997-05-03: 'Hypnotize' by The Notorious B.I.G.\n",
      "1997-04-26: 'Can't Nobody Hold Me Down' by Puff Daddy (Featuring Mase)\n",
      "1997-04-19: 'Can't Nobody Hold Me Down' by Puff Daddy (Featuring Mase)\n",
      "1997-04-12: 'Can't Nobody Hold Me Down' by Puff Daddy (Featuring Mase)\n",
      "1997-04-05: 'Can't Nobody Hold Me Down' by Puff Daddy (Featuring Mase)\n",
      "1997-03-29: 'Can't Nobody Hold Me Down' by Puff Daddy (Featuring Mase)\n",
      "1997-03-22: 'Can't Nobody Hold Me Down' by Puff Daddy (Featuring Mase)\n",
      "1997-03-15: 'Wannabe' by Spice Girls\n",
      "1997-03-08: 'Wannabe' by Spice Girls\n",
      "1997-03-01: 'Wannabe' by Spice Girls\n",
      "1997-02-22: 'Wannabe' by Spice Girls\n",
      "1997-02-15: 'Un-Break My Heart' by Toni Braxton\n",
      "1997-02-08: 'Un-Break My Heart' by Toni Braxton\n",
      "1997-02-01: 'Un-Break My Heart' by Toni Braxton\n",
      "1997-01-25: 'Un-Break My Heart' by Toni Braxton\n",
      "1997-01-18: 'Un-Break My Heart' by Toni Braxton\n",
      "1997-01-11: 'Un-Break My Heart' by Toni Braxton\n",
      "1997-01-04: 'Un-Break My Heart' by Toni Braxton\n",
      "Year is over\n",
      "done\n"
     ]
    }
   ],
   "source": [
    "# set the counter\n",
    "counter = 53\n",
    "\n",
    "# set the time intervval\n",
    "timer_interval = 10\n",
    "\n",
    "# read in file\n",
    "top_100 = pd.read_csv(outfilename)\n",
    "\n",
    "# find most oldest week in output\n",
    "oldest_date = top_100.date.min()\n",
    "\n",
    "# if oldest_date isnull, then use begin_chart date\n",
    "if pd.isnull(oldest_date):\n",
    "    begin_chart_date = output_year + \"-12-25\"\n",
    "    chart = billboard.ChartData(chart_type, date=begin_chart_date)\n",
    "    print(\"Starting new year\")\n",
    "    print(\"Beginning date: \" + chart.date)\n",
    "# else, use next previous date\n",
    "else:\n",
    "    chart = billboard.ChartData(chart_type, date=oldest_date)\n",
    "    chart = billboard.ChartData(chart_type, str(chart.previousDate))\n",
    "    print(\"Picking up after: \" + oldest_date)\n",
    "    print(\"Beginning date: \" + chart.date)\n",
    "\n",
    "with open(outfilename, 'a') as outputfile:\n",
    "    start_time = time.time()\n",
    "    for i in range (1,counter+1):\n",
    "        for position in range (0,100):\n",
    "            song = chart[position]\n",
    "            line_out = str(chart.date) + ',' + '\"' + song.title + '\"' + ',' + '\"' \\\n",
    "            + song.artist + '\"' + ','  + str(song.rank) + ',' + str(song.lastPos) \\\n",
    "            + ',' + str(song.peakPos) + ',' + str(song.weeks) + '\\n'\n",
    "            with open(outfilename, 'a') as outputfile:\n",
    "                outputfile.write(line_out)\n",
    "        print(chart.date + \": \" + str(chart[0]))\n",
    "        chart = billboard.ChartData(chart_type, str(chart.previousDate))\n",
    "        # check if year is over\n",
    "        if chart.date[:4] != output_year:\n",
    "            print(\"Year is over\")\n",
    "            break\n",
    "        else:\n",
    "            time.sleep(timer_interval)\n",
    "    print('done')\n",
    "outputfile.close()"
   ]
  },
  {
   "cell_type": "markdown",
   "metadata": {},
   "source": [
    "## Some testing\n",
    "\n",
    "This checks the lengh of the last file processed. Should be 5200, unless it is a leap year that starts on a Saturday, like 2016."
   ]
  },
  {
   "cell_type": "code",
   "execution_count": 17,
   "metadata": {},
   "outputs": [
    {
     "data": {
      "text/plain": [
       "5200"
      ]
     },
     "execution_count": 17,
     "metadata": {},
     "output_type": "execute_result"
    }
   ],
   "source": [
    "# read in the file\n",
    "chart_peek = pd.read_csv(outfilename)\n",
    "\n",
    "# check the length\n",
    "len(chart_peek)"
   ]
  },
  {
   "cell_type": "code",
   "execution_count": null,
   "metadata": {},
   "outputs": [],
   "source": []
  }
 ],
 "metadata": {
  "kernelspec": {
   "display_name": "Python 3",
   "language": "python",
   "name": "python3"
  },
  "language_info": {
   "codemirror_mode": {
    "name": "ipython",
    "version": 3
   },
   "file_extension": ".py",
   "mimetype": "text/x-python",
   "name": "python",
   "nbconvert_exporter": "python",
   "pygments_lexer": "ipython3",
   "version": "3.7.5"
  }
 },
 "nbformat": 4,
 "nbformat_minor": 4
}
